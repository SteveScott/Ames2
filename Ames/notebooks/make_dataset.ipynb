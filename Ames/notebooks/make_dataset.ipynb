{
 "cells": [
  {
   "cell_type": "code",
   "execution_count": 1,
   "metadata": {},
   "outputs": [],
   "source": [
    "import os\n",
    "import numpy as np\n",
    "import pandas as pd\n",
    "import category_encoders as ce\n",
    "import math\n",
    "import copy"
   ]
  },
  {
   "cell_type": "code",
   "execution_count": 2,
   "metadata": {},
   "outputs": [
    {
     "name": "stdout",
     "output_type": "stream",
     "text": [
      "C:\\Users\\scottwi\\Ames\\Ames\n"
     ]
    }
   ],
   "source": [
    "cd ~/Ames/Ames"
   ]
  },
  {
   "cell_type": "code",
   "execution_count": 3,
   "metadata": {},
   "outputs": [],
   "source": [
    "root_directory = os.getcwd()\n",
    "test_data_path = os.path.join(root_directory, os.path.join('data','raw', 'test1.csv'))\n",
    "train_data_path = os.path.join(root_directory, os.path.join('data', 'raw', 'train1.csv'))"
   ]
  },
  {
   "cell_type": "code",
   "execution_count": 4,
   "metadata": {},
   "outputs": [],
   "source": [
    "test_dataframe = pd.read_csv(test_data_path)\n",
    "train_dataframe = pd.read_csv(train_data_path)\n"
   ]
  },
  {
   "cell_type": "code",
   "execution_count": 5,
   "metadata": {},
   "outputs": [
    {
     "name": "stdout",
     "output_type": "stream",
     "text": [
      "<class 'pandas.core.frame.DataFrame'>\n",
      "RangeIndex: 1459 entries, 0 to 1458\n",
      "Data columns (total 81 columns):\n",
      "Id               1459 non-null int64\n",
      "MSSubClass       1459 non-null int64\n",
      "MSZoning         1455 non-null object\n",
      "LotFrontage      1232 non-null float64\n",
      "LotArea          1459 non-null int64\n",
      "Street           1459 non-null object\n",
      "Alley            107 non-null object\n",
      "LotShape         1459 non-null object\n",
      "LandContour      1459 non-null object\n",
      "Utilities        1457 non-null object\n",
      "LotConfig        1459 non-null object\n",
      "LandSlope        1459 non-null object\n",
      "Neighborhood     1459 non-null object\n",
      "Condition1       1459 non-null object\n",
      "Condition2       1459 non-null object\n",
      "BldgType         1459 non-null object\n",
      "HouseStyle       1459 non-null object\n",
      "OverallQual      1459 non-null int64\n",
      "OverallCond      1459 non-null int64\n",
      "YearBuilt        1459 non-null int64\n",
      "YearRemodAdd     1459 non-null int64\n",
      "RoofStyle        1459 non-null object\n",
      "RoofMatl         1459 non-null object\n",
      "Exterior1st      1458 non-null object\n",
      "Exterior2nd      1458 non-null object\n",
      "MasVnrType       1443 non-null object\n",
      "MasVnrArea       1444 non-null float64\n",
      "ExterQual        1459 non-null object\n",
      "ExterCond        1459 non-null object\n",
      "Foundation       1459 non-null object\n",
      "BsmtQual         1415 non-null object\n",
      "BsmtCond         1414 non-null object\n",
      "BsmtExposure     1415 non-null object\n",
      "BsmtFinType1     1417 non-null object\n",
      "BsmtFinSF1       1458 non-null float64\n",
      "BsmtFinType2     1417 non-null object\n",
      "BsmtFinSF2       1458 non-null float64\n",
      "BsmtUnfSF        1458 non-null float64\n",
      "TotalBsmtSF      1458 non-null float64\n",
      "Heating          1459 non-null object\n",
      "HeatingQC        1459 non-null object\n",
      "CentralAir       1459 non-null object\n",
      "Electrical       1459 non-null object\n",
      "1stFlrSF         1459 non-null int64\n",
      "2ndFlrSF         1459 non-null int64\n",
      "LowQualFinSF     1459 non-null int64\n",
      "GrLivArea        1459 non-null int64\n",
      "BsmtFullBath     1457 non-null float64\n",
      "BsmtHalfBath     1457 non-null float64\n",
      "FullBath         1459 non-null int64\n",
      "HalfBath         1459 non-null int64\n",
      "BedroomAbvGr     1459 non-null int64\n",
      "KitchenAbvGr     1459 non-null int64\n",
      "KitchenQual      1458 non-null object\n",
      "TotRmsAbvGrd     1459 non-null int64\n",
      "Functional       1457 non-null object\n",
      "Fireplaces       1459 non-null int64\n",
      "FireplaceQu      729 non-null object\n",
      "GarageType       1383 non-null object\n",
      "GarageYrBlt      1381 non-null float64\n",
      "GarageFinish     1381 non-null object\n",
      "GarageCars       1458 non-null float64\n",
      "GarageArea       1458 non-null float64\n",
      "GarageQual       1381 non-null object\n",
      "GarageCond       1381 non-null object\n",
      "PavedDrive       1459 non-null object\n",
      "WoodDeckSF       1459 non-null int64\n",
      "OpenPorchSF      1459 non-null int64\n",
      "EnclosedPorch    1459 non-null int64\n",
      "3SsnPorch        1459 non-null int64\n",
      "ScreenPorch      1459 non-null int64\n",
      "PoolArea         1459 non-null int64\n",
      "PoolQC           3 non-null object\n",
      "Fence            290 non-null object\n",
      "MiscFeature      51 non-null object\n",
      "MiscVal          1459 non-null int64\n",
      "MoSold           1459 non-null int64\n",
      "YrSold           1459 non-null int64\n",
      "SaleType         1458 non-null object\n",
      "SaleCondition    1459 non-null object\n",
      "SalePrice        1459 non-null float64\n",
      "dtypes: float64(12), int64(26), object(43)\n",
      "memory usage: 923.4+ KB\n"
     ]
    }
   ],
   "source": [
    "test_dataframe.info()"
   ]
  },
  {
   "cell_type": "markdown",
   "metadata": {},
   "source": [
    "#### omit:\n",
    "\n",
    "street\n",
    "\n",
    "lot shape\n",
    "\n",
    "utilities\n",
    "\n",
    "LandSlope (same as contour?)\n",
    "\n",
    "roofStyle\n",
    "\n",
    "Exterior 2nd\n",
    "\n",
    "BsmtExposure\n",
    "\n",
    "BsmtFinType2\n",
    "\n",
    "Heating - a little sparse.\n",
    "\n",
    "Functional? \n",
    "\n",
    "GarageQual - too sparse no pattern.\n",
    "\n",
    "GarageCond - too sparse.\n",
    "\n",
    "Fence?\n",
    "\n",
    "MiscFeature\n",
    "\n",
    "PoolQC - only 7 not null"
   ]
  },
  {
   "cell_type": "markdown",
   "metadata": {},
   "source": [
    "### Main function clean_dataset"
   ]
  },
  {
   "cell_type": "code",
   "execution_count": 6,
   "metadata": {},
   "outputs": [],
   "source": [
    "def clean_dataset(df):\n",
    "    df = rename_invalid_labels(df)\n",
    "    df = omit(df)\n",
    "    df = clean_continuous(df)\n",
    "    df = clean_catagorical(df)\n",
    "    df = binary_neighborhood(df)\n",
    "    df = neighborhood2(df)\n",
    "    return df"
   ]
  },
  {
   "cell_type": "code",
   "execution_count": 7,
   "metadata": {},
   "outputs": [],
   "source": [
    "def rename_invalid_labels(df):\n",
    "    df = df.rename(columns={\"1stFlrSF\": \"FirstFlrSF\", \"2ndFlrSF\": \"SecondFlrSF\", \"3SsnPorch\": \"ThreeSsnPorch\"})\n",
    "    return df"
   ]
  },
  {
   "cell_type": "code",
   "execution_count": 8,
   "metadata": {},
   "outputs": [],
   "source": [
    "def omit(df):\n",
    "    df = df.drop(columns=['Street',\n",
    "             'LotShape',\n",
    "             'Utilities',\n",
    "             'LandSlope',\n",
    "             'RoofStyle',\n",
    "             'Exterior2nd',\n",
    "             'BsmtExposure',\n",
    "             'BsmtFinType2',\n",
    "             'Heating',\n",
    "             'Functional',\n",
    "             'GarageQual',\n",
    "             'GarageCond',\n",
    "             'Fence',\n",
    "             'MiscFeature',\n",
    "             'ThreeSsnPorch',\n",
    "             'PoolQC',\n",
    "              ], axis=1)\n",
    "    return df"
   ]
  },
  {
   "cell_type": "code",
   "execution_count": 9,
   "metadata": {},
   "outputs": [],
   "source": [
    "def relabel_continuous(df):\n",
    "    df['SumSqft'] = df['FirstFlrSF'] + df['SecondFlrSF']\n",
    "    df.drop(['FirstFlrSF', 'SecondFlrSF'], axis=1)\n",
    "    return df"
   ]
  },
  {
   "cell_type": "code",
   "execution_count": 10,
   "metadata": {},
   "outputs": [],
   "source": [
    "def clean_continuous(df):\n",
    "    df = relabel_continuous(df)\n",
    "    df = find_missing_lot_frontage(df)\n",
    "    df = lot_frontage_replace(df)\n",
    "    return df"
   ]
  },
  {
   "cell_type": "code",
   "execution_count": 11,
   "metadata": {},
   "outputs": [],
   "source": [
    "def clean_catagorical(df):\n",
    "    df = one_hot(df)\n",
    "    df = ordinal_to_cat_main(df)\n",
    "    df = cat_to_ordinal(df)\n",
    "    return df"
   ]
  },
  {
   "cell_type": "code",
   "execution_count": 12,
   "metadata": {},
   "outputs": [],
   "source": [
    "def find_missing_lot_frontage(df):\n",
    "    #find the average lot front by neighborhood\n",
    "    #take the mean lot frontage value for each neighborhood. \n",
    "    mean_df = df.groupby(by = ['Neighborhood'], axis=0,).mean()['LotFrontage']\n",
    "    mean_dict = mean_df.to_dict()\n",
    "    df.LotFrontage = df.LotFrontage.fillna(df.Neighborhood.map(mean_dict))\n",
    "    return df"
   ]
  },
  {
   "cell_type": "code",
   "execution_count": null,
   "metadata": {},
   "outputs": [],
   "source": [
    "\n"
   ]
  },
  {
   "cell_type": "markdown",
   "metadata": {},
   "source": [
    "#### keep catagorical and one hot:\n",
    "MSZoning\n",
    "\n",
    "alley\n",
    "\n",
    "land contour\n",
    "\n",
    "lotConfig\n",
    "\n",
    "MasVnrType\n",
    "\n",
    "Foundation"
   ]
  },
  {
   "cell_type": "code",
   "execution_count": 13,
   "metadata": {},
   "outputs": [],
   "source": [
    "def one_hot(df):\n",
    "    ce_one_hot_encoder = ce.OneHotEncoder(cols=['MSZoning', 'Alley', 'LandContour', 'LotConfig', 'MasVnrType', 'Foundation'])\n",
    "    y = df['SalePrice']\n",
    "    X = df.drop('SalePrice', axis=1)\n",
    "    df = ce_one_hot_encoder.fit_transform(X, y)\n",
    "    df = pd.concat([df, y], axis=1)\n",
    "    return df\n",
    "    "
   ]
  },
  {
   "cell_type": "markdown",
   "metadata": {},
   "source": [
    "### Convert neighborhood to both ordinal and binary"
   ]
  },
  {
   "cell_type": "code",
   "execution_count": 14,
   "metadata": {},
   "outputs": [],
   "source": [
    "def binary_neighborhood(df):\n",
    "    #break down neighborhoods into a binary encoding.\n",
    "    df_copy = df.copy()\n",
    "    y = df['SalePrice']\n",
    "    X = df_copy.drop('SalePrice', axis=1)\n",
    "    be = ce.BinaryEncoder(cols=['Neighborhood'])\n",
    "    be.fit(X, y)\n",
    "    new_X = be.transform(X)\n",
    "    return pd.concat([new_X, y], axis = 1)"
   ]
  },
  {
   "cell_type": "code",
   "execution_count": 15,
   "metadata": {},
   "outputs": [],
   "source": [
    "#binary(train_dataframe)"
   ]
  },
  {
   "cell_type": "code",
   "execution_count": null,
   "metadata": {},
   "outputs": [],
   "source": []
  },
  {
   "cell_type": "code",
   "execution_count": 16,
   "metadata": {},
   "outputs": [
    {
     "data": {
      "text/plain": [
       "'\\n#Find the dictionary with key as the neighborhood and value as the lot frontage.\\nneighborhood_list = []\\nfor i in train_dataframe[\\'Neighborhood\\'].unique():\\n    neighborhood_list.append(i)\\n\\n#create a new dataframe with neighborhoods\\ndf = pd.DataFrame(data = neighborhood_list, columns = [\"n_name\"])\\n\\n#create a new column for lot frontage\\nzero_array = []\\nfor i in range(0, len(neighborhood_list)):\\n    zero_array.append(0)\\n#turn list of zeros into data frame\\nzero_df = pd.DataFrame(data = zero_array, columns=[\"n_avg_frontage\"])\\n#join neighborhoods and zeros\\ndf = pd.concat([df, zero_df], axis = 1)\\n\\nneighborhood_average_lf_df = train_dataframe.groupby(\\'Neighborhood\\')[\\'LotFrontage\\'].mean().to_frame()\\nlot_frontage_dict = neighborhood_average_lf_df.to_dict()\\nlot_frontage_dict\\n'"
      ]
     },
     "execution_count": 16,
     "metadata": {},
     "output_type": "execute_result"
    }
   ],
   "source": [
    "#find the dictionary with the key as the neighborhood and the value as the average sale price.\n",
    "'''\n",
    "neighborhood_list = []\n",
    "for i in train_dataframe['Neighborhood'].unique():\n",
    "    neighborhood_list.append(i)\n",
    "    \n",
    "neighborhood_list\n",
    "\n",
    "df = pd.DataFrame(data = neighborhood_list, columns=[\"n_name\"])\n",
    "\n",
    "zero_array = []\n",
    "for i in range(0,25):\n",
    "    zero_array.append(0)\n",
    "zero_df = pd.DataFrame(data= zero_array, columns=['n_avg_price'])\n",
    "df = pd.concat([df, zero_df], axis = 1)\n",
    "\n",
    "for row in df.iterrows():\n",
    "    pass\n",
    "    #print(row[1][0])\n",
    "\n",
    "neighborhood_averages_series = train_dataframe.groupby('Neighborhood')['SalePrice'].mean()\n",
    "neighborhood_averages_df = neighborhood_averages_series.to_frame()\n",
    "neighborhood_dict = neighborhood_averages_df.to_dict()\n",
    "neighborhood_dict\n",
    "'''\n",
    "'''\n",
    "#Find the dictionary with key as the neighborhood and value as the lot frontage.\n",
    "neighborhood_list = []\n",
    "for i in train_dataframe['Neighborhood'].unique():\n",
    "    neighborhood_list.append(i)\n",
    "\n",
    "#create a new dataframe with neighborhoods\n",
    "df = pd.DataFrame(data = neighborhood_list, columns = [\"n_name\"])\n",
    "\n",
    "#create a new column for lot frontage\n",
    "zero_array = []\n",
    "for i in range(0, len(neighborhood_list)):\n",
    "    zero_array.append(0)\n",
    "#turn list of zeros into data frame\n",
    "zero_df = pd.DataFrame(data = zero_array, columns=[\"n_avg_frontage\"])\n",
    "#join neighborhoods and zeros\n",
    "df = pd.concat([df, zero_df], axis = 1)\n",
    "\n",
    "neighborhood_average_lf_df = train_dataframe.groupby('Neighborhood')['LotFrontage'].mean().to_frame()\n",
    "lot_frontage_dict = neighborhood_average_lf_df.to_dict()\n",
    "lot_frontage_dict\n",
    "'''"
   ]
  },
  {
   "cell_type": "code",
   "execution_count": 17,
   "metadata": {},
   "outputs": [],
   "source": [
    "def neighborhood2(df):\n",
    "    #replace the neighborhood catagorical variable with the average sale price for that neighborhood. \n",
    "    #A way to rank as \"good\" or \"bad\" neighborhoods\n",
    "    neighborhood_dict = {'Neighborhood': {'Blmngtn': 194870.88235294117,\n",
    "  'Blueste': 137500.0,\n",
    "  'BrDale': 104493.75,\n",
    "  'BrkSide': 124834.05172413793,\n",
    "  'ClearCr': 212565.42857142858,\n",
    "  'CollgCr': 197965.77333333335,\n",
    "  'Crawfor': 210624.72549019608,\n",
    "  'Edwards': 128219.7,\n",
    "  'Gilbert': 192854.50632911394,\n",
    "  'IDOTRR': 100123.78378378379,\n",
    "  'MeadowV': 98576.4705882353,\n",
    "  'Mitchel': 156270.1224489796,\n",
    "  'NAmes': 145847.08,\n",
    "  'NPkVill': 142694.44444444444,\n",
    "  'NWAmes': 189050.0684931507,\n",
    "  'NoRidge': 335295.31707317074,\n",
    "  'NridgHt': 316270.6233766234,\n",
    "  'OldTown': 128225.30088495575,\n",
    "  'SWISU': 142591.36,\n",
    "  'Sawyer': 136793.13513513515,\n",
    "  'SawyerW': 186555.7966101695,\n",
    "  'Somerst': 225379.83720930232,\n",
    "  'StoneBr': 310499.0,\n",
    "  'Timber': 242247.44736842104,\n",
    "  'Veenker': 238772.72727272726}}\n",
    "    df.replace(to_replace=neighborhood_dict, inplace=True)\n",
    "    print(type(df))\n",
    "    return df"
   ]
  },
  {
   "cell_type": "code",
   "execution_count": 18,
   "metadata": {},
   "outputs": [],
   "source": [
    "def lot_frontage_replace(df):\n",
    "    neighborhood_list = ['CollgCr',\n",
    " 'Veenker',\n",
    " 'Crawfor',\n",
    " 'NoRidge',\n",
    " 'Mitchel',\n",
    " 'Somerst',\n",
    " 'NWAmes',\n",
    " 'OldTown',\n",
    " 'BrkSide',\n",
    " 'Sawyer',\n",
    " 'NridgHt',\n",
    " 'NAmes',\n",
    " 'SawyerW',\n",
    " 'IDOTRR',\n",
    " 'MeadowV',\n",
    " 'Edwards',\n",
    " 'Timber',\n",
    " 'Gilbert',\n",
    " 'StoneBr',\n",
    " 'ClearCr',\n",
    " 'NPkVill',\n",
    " 'Blmngtn',\n",
    " 'BrDale',\n",
    " 'SWISU',\n",
    " 'Blueste']\n",
    "    \n",
    "    lot_frontage_dict = {'Neighborhood': {'Blmngtn': 47.142857142857146,\n",
    "  'Blueste': 24.0,\n",
    "  'BrDale': 21.5625,\n",
    "  'BrkSide': 57.509803921568626,\n",
    "  'ClearCr': 77.5,\n",
    "  'CollgCr': 70.5625,\n",
    "  'Crawfor': 70.0952380952381,\n",
    "  'Edwards': 68.21739130434783,\n",
    "  'Gilbert': 73.84905660377359,\n",
    "  'IDOTRR': 60.714285714285715,\n",
    "  'MeadowV': 27.8,\n",
    "  'Mitchel': 70.08333333333333,\n",
    "  'NAmes': 74.85263157894737,\n",
    "  'NPkVill': 28.25,\n",
    "  'NWAmes': 77.82978723404256,\n",
    "  'NoRidge': 91.87878787878788,\n",
    "  'NridgHt': 81.88157894736842,\n",
    "  'OldTown': 62.788990825688074,\n",
    "  'SWISU': 58.91304347826087,\n",
    "  'Sawyer': 68.71153846153847,\n",
    "  'SawyerW': 70.09803921568627,\n",
    "  'Somerst': 64.66666666666667,\n",
    "  'StoneBr': 62.7,\n",
    "  'Timber': 80.13333333333334,\n",
    "  'Veenker': 59.714285714285715}}\n",
    "\n",
    "    for hood in neighborhood_list:\n",
    "        for j in range(0, len(df)):\n",
    "            if df.loc[j, 'Neighborhood'] == hood and np.isnan(df.loc[j, 'LotFrontage']):\n",
    "                df.loc[j, 'LotFrontage'] = lot_frontage_dict[\"Neighborhood\"][hood]           \n",
    "    return df"
   ]
  },
  {
   "cell_type": "code",
   "execution_count": 19,
   "metadata": {},
   "outputs": [
    {
     "data": {
      "text/plain": [
       "0"
      ]
     },
     "execution_count": 19,
     "metadata": {},
     "output_type": "execute_result"
    }
   ],
   "source": [
    "test = lot_frontage_replace(train_dataframe)\n",
    "test['LotFrontage'].isna().sum()"
   ]
  },
  {
   "cell_type": "code",
   "execution_count": null,
   "metadata": {},
   "outputs": [],
   "source": []
  },
  {
   "cell_type": "code",
   "execution_count": null,
   "metadata": {},
   "outputs": [],
   "source": []
  },
  {
   "cell_type": "markdown",
   "metadata": {},
   "source": [
    "\n",
    "#### Make Ordinal\n",
    "\n",
    "ExterQual\n",
    "\n",
    "BsmtQual\n",
    "\n",
    "BsmntCond\n",
    "\n",
    "Kitchen Qual\n",
    "\n",
    "Fireplace Qu\n",
    "\n",
    "GarageFinish\n"
   ]
  },
  {
   "cell_type": "code",
   "execution_count": 20,
   "metadata": {},
   "outputs": [],
   "source": [
    "def ordinal_to_cat_main(df):\n",
    "    df = ordinal_to_cat(df, 'BsmtQual')\n",
    "    df = ordinal_to_cat(df, 'BsmtCond')\n",
    "    df = ordinal_to_cat(df, 'KitchenQual')\n",
    "    df = ordinal_to_cat(df, 'FireplaceQu')\n",
    "    df = ordinal_to_cat(df, 'GarageFinish')\n",
    "    return df"
   ]
  },
  {
   "cell_type": "code",
   "execution_count": null,
   "metadata": {},
   "outputs": [],
   "source": [
    "\n"
   ]
  },
  {
   "cell_type": "code",
   "execution_count": 21,
   "metadata": {},
   "outputs": [],
   "source": [
    "def ordinal_to_cat(df, column_name):\n",
    "    #extract NA as dummy variable\n",
    "    cat_exists = []\n",
    "    for row in df[column_name]:\n",
    "        if (row is np.nan):\n",
    "            cat_exists.append(0)\n",
    "        else:\n",
    "            cat_exists.append(1)\n",
    "    new_df = pd.DataFrame(cat_exists, columns=[column_name + '_Exist'])\n",
    "    new_df = pd.concat([df, new_df], axis=1)\n",
    "    answer_df = move_SalePrice(new_df)\n",
    "    \n",
    "        #replace NA\n",
    "    return answer_df\n",
    "\n"
   ]
  },
  {
   "cell_type": "code",
   "execution_count": null,
   "metadata": {},
   "outputs": [],
   "source": []
  },
  {
   "cell_type": "code",
   "execution_count": 22,
   "metadata": {},
   "outputs": [],
   "source": [
    "#this helper function moves sale price to the end of the list as per convention.\n",
    "def move_SalePrice(df):\n",
    "    y = df['SalePrice']\n",
    "    X = df.loc[:, df.columns != 'SalePrice']\n",
    "    return pd.concat([X, y], axis=1)"
   ]
  },
  {
   "cell_type": "code",
   "execution_count": 23,
   "metadata": {},
   "outputs": [],
   "source": [
    "#use this function to find the appropriate value to replace NA with.\n",
    "def find_na_average(cat):\n",
    "    td2 = copy.deepcopy(train_dataframe)\n",
    "    td2.fillna('not_applicable', inplace=True)\n",
    "    df = td2.groupby([cat]).mean()\n",
    "    df2 = df['SalePrice'].to_frame()\n",
    "    average_na =  df2.loc['not_applicable', 'SalePrice']\n",
    "    median_val = td2['SalePrice'].median()\n",
    "    answer = 3 * average_na / median_val\n",
    "    return answer"
   ]
  },
  {
   "cell_type": "code",
   "execution_count": 24,
   "metadata": {},
   "outputs": [
    {
     "data": {
      "text/plain": [
       "37"
      ]
     },
     "execution_count": 24,
     "metadata": {},
     "output_type": "execute_result"
    }
   ],
   "source": [
    "train_dataframe['BsmtQual'].isnull().sum()"
   ]
  },
  {
   "cell_type": "code",
   "execution_count": null,
   "metadata": {},
   "outputs": [],
   "source": []
  },
  {
   "cell_type": "code",
   "execution_count": 25,
   "metadata": {},
   "outputs": [
    {
     "data": {
      "text/plain": [
       "1.9015451033855941"
      ]
     },
     "execution_count": 25,
     "metadata": {},
     "output_type": "execute_result"
    }
   ],
   "source": [
    "find_na_average('GarageFinish')"
   ]
  },
  {
   "cell_type": "code",
   "execution_count": 26,
   "metadata": {},
   "outputs": [],
   "source": [
    "def cat_to_ordinal(df):\n",
    "    #replace cat values with ordinal. If NA it fills it in with 3 times the ratio of nas to the median value.\n",
    "    clean_dict = { 'ExterQual': {'Po': 0, 'Fa': 1, 'TA': 2, 'Gd': 3, 'Ex': 4},\n",
    "                 'BsmtQual': {'Po': 0, 'Fa': 1, 'TA': 2, 'Gd': 3, 'Ex': 4, None : find_na_average('BsmtQual')},\n",
    "                 'BsmtCond': {'Po': 0, 'Fa': 1, 'TA': 2, 'Gd': 3, 'Ex': 4, None : find_na_average('BsmtCond')},\n",
    "                 'KitchenQual': {'Po': 0, 'Fa': 1, 'TA': 2, 'Gd': 3, 'Ex': 4}, #no NA Values\n",
    "                 'FireplaceQu': {'Po': 0, 'Fa': 1, 'TA': 2, 'Gd': 3, 'Ex': 4, None : find_na_average('FireplaceQu')},\n",
    "                 'GarageFinish': {None: 0, 'Unf': 1, 'RFn': 2, 'Fin': 3, None : find_na_average('GarageFinish')}\n",
    "                 }\n",
    "                 \n",
    "    df.replace(clean_dict, inplace = True)\n",
    "        \n",
    "    return df"
   ]
  },
  {
   "cell_type": "code",
   "execution_count": null,
   "metadata": {},
   "outputs": [],
   "source": []
  },
  {
   "cell_type": "code",
   "execution_count": null,
   "metadata": {},
   "outputs": [],
   "source": []
  },
  {
   "cell_type": "code",
   "execution_count": 27,
   "metadata": {},
   "outputs": [
    {
     "name": "stdout",
     "output_type": "stream",
     "text": [
      "<class 'pandas.core.frame.DataFrame'>\n"
     ]
    }
   ],
   "source": [
    "result = clean_dataset(train_dataframe)"
   ]
  },
  {
   "cell_type": "code",
   "execution_count": 28,
   "metadata": {},
   "outputs": [
    {
     "name": "stdout",
     "output_type": "stream",
     "text": [
      "<class 'pandas.core.frame.DataFrame'>\n",
      "RangeIndex: 1460 entries, 0 to 1459\n",
      "Data columns (total 98 columns):\n",
      "Id                    1460 non-null int64\n",
      "MSSubClass            1460 non-null int64\n",
      "MSZoning_1            1460 non-null int64\n",
      "MSZoning_2            1460 non-null int64\n",
      "MSZoning_3            1460 non-null int64\n",
      "MSZoning_4            1460 non-null int64\n",
      "MSZoning_5            1460 non-null int64\n",
      "LotFrontage           1460 non-null float64\n",
      "LotArea               1460 non-null int64\n",
      "Alley_1               1460 non-null int64\n",
      "Alley_2               1460 non-null int64\n",
      "Alley_3               1460 non-null int64\n",
      "LandContour_1         1460 non-null int64\n",
      "LandContour_2         1460 non-null int64\n",
      "LandContour_3         1460 non-null int64\n",
      "LandContour_4         1460 non-null int64\n",
      "LotConfig_1           1460 non-null int64\n",
      "LotConfig_2           1460 non-null int64\n",
      "LotConfig_3           1460 non-null int64\n",
      "LotConfig_4           1460 non-null int64\n",
      "LotConfig_5           1460 non-null int64\n",
      "Neighborhood_0        1460 non-null int64\n",
      "Neighborhood_1        1460 non-null int64\n",
      "Neighborhood_2        1460 non-null int64\n",
      "Neighborhood_3        1460 non-null int64\n",
      "Neighborhood_4        1460 non-null int64\n",
      "Neighborhood_5        1460 non-null int64\n",
      "Condition1            1460 non-null object\n",
      "Condition2            1460 non-null object\n",
      "BldgType              1460 non-null object\n",
      "HouseStyle            1460 non-null object\n",
      "OverallQual           1460 non-null int64\n",
      "OverallCond           1460 non-null int64\n",
      "YearBuilt             1460 non-null int64\n",
      "YearRemodAdd          1460 non-null int64\n",
      "RoofMatl              1460 non-null object\n",
      "Exterior1st           1460 non-null object\n",
      "MasVnrType_1          1460 non-null int64\n",
      "MasVnrType_2          1460 non-null int64\n",
      "MasVnrType_3          1460 non-null int64\n",
      "MasVnrType_4          1460 non-null int64\n",
      "MasVnrType_5          1460 non-null int64\n",
      "MasVnrArea            1452 non-null float64\n",
      "ExterQual             1460 non-null int64\n",
      "ExterCond             1460 non-null object\n",
      "Foundation_1          1460 non-null int64\n",
      "Foundation_2          1460 non-null int64\n",
      "Foundation_3          1460 non-null int64\n",
      "Foundation_4          1460 non-null int64\n",
      "Foundation_5          1460 non-null int64\n",
      "Foundation_6          1460 non-null int64\n",
      "BsmtQual              1460 non-null float64\n",
      "BsmtCond              1460 non-null float64\n",
      "BsmtFinType1          1423 non-null object\n",
      "BsmtFinSF1            1460 non-null int64\n",
      "BsmtFinSF2            1460 non-null int64\n",
      "BsmtUnfSF             1460 non-null int64\n",
      "TotalBsmtSF           1460 non-null int64\n",
      "HeatingQC             1460 non-null object\n",
      "CentralAir            1460 non-null object\n",
      "Electrical            1459 non-null object\n",
      "FirstFlrSF            1460 non-null int64\n",
      "SecondFlrSF           1460 non-null int64\n",
      "LowQualFinSF          1460 non-null int64\n",
      "GrLivArea             1460 non-null int64\n",
      "BsmtFullBath          1460 non-null int64\n",
      "BsmtHalfBath          1460 non-null int64\n",
      "FullBath              1460 non-null int64\n",
      "HalfBath              1460 non-null int64\n",
      "BedroomAbvGr          1460 non-null int64\n",
      "KitchenAbvGr          1460 non-null int64\n",
      "KitchenQual           1460 non-null int64\n",
      "TotRmsAbvGrd          1460 non-null int64\n",
      "Fireplaces            1460 non-null int64\n",
      "FireplaceQu           1460 non-null float64\n",
      "GarageType            1379 non-null object\n",
      "GarageYrBlt           1379 non-null float64\n",
      "GarageFinish          1460 non-null float64\n",
      "GarageCars            1460 non-null int64\n",
      "GarageArea            1460 non-null int64\n",
      "PavedDrive            1460 non-null object\n",
      "WoodDeckSF            1460 non-null int64\n",
      "OpenPorchSF           1460 non-null int64\n",
      "EnclosedPorch         1460 non-null int64\n",
      "ScreenPorch           1460 non-null int64\n",
      "PoolArea              1460 non-null int64\n",
      "MiscVal               1460 non-null int64\n",
      "MoSold                1460 non-null int64\n",
      "YrSold                1460 non-null int64\n",
      "SaleType              1460 non-null object\n",
      "SaleCondition         1460 non-null object\n",
      "SumSqft               1460 non-null int64\n",
      "BsmtQual_Exist        1460 non-null int64\n",
      "BsmtCond_Exist        1460 non-null int64\n",
      "KitchenQual_Exist     1460 non-null int64\n",
      "FireplaceQu_Exist     1460 non-null int64\n",
      "GarageFinish_Exist    1460 non-null int64\n",
      "SalePrice             1460 non-null int64\n",
      "dtypes: float64(7), int64(76), object(15)\n",
      "memory usage: 1.1+ MB\n"
     ]
    }
   ],
   "source": [
    "result.info(verbose=True)"
   ]
  },
  {
   "cell_type": "code",
   "execution_count": 29,
   "metadata": {},
   "outputs": [
    {
     "data": {
      "text/plain": [
       "Id                0\n",
       "MSSubClass        0\n",
       "MSZoning_1        0\n",
       "MSZoning_2        0\n",
       "MSZoning_3        0\n",
       "MSZoning_4        0\n",
       "MSZoning_5        0\n",
       "LotFrontage       0\n",
       "LotArea           0\n",
       "Alley_1           0\n",
       "Alley_2           0\n",
       "Alley_3           0\n",
       "LandContour_1     0\n",
       "LandContour_2     0\n",
       "LandContour_3     0\n",
       "LandContour_4     0\n",
       "LotConfig_1       0\n",
       "LotConfig_2       0\n",
       "LotConfig_3       0\n",
       "LotConfig_4       0\n",
       "LotConfig_5       0\n",
       "Neighborhood_0    0\n",
       "Neighborhood_1    0\n",
       "Neighborhood_2    0\n",
       "Neighborhood_3    0\n",
       "Neighborhood_4    0\n",
       "Neighborhood_5    0\n",
       "Condition1        0\n",
       "Condition2        0\n",
       "BldgType          0\n",
       "HouseStyle        0\n",
       "OverallQual       0\n",
       "OverallCond       0\n",
       "YearBuilt         0\n",
       "YearRemodAdd      0\n",
       "RoofMatl          0\n",
       "Exterior1st       0\n",
       "MasVnrType_1      0\n",
       "MasVnrType_2      0\n",
       "MasVnrType_3      0\n",
       "MasVnrType_4      0\n",
       "MasVnrType_5      0\n",
       "MasVnrArea        8\n",
       "ExterQual         0\n",
       "ExterCond         0\n",
       "Foundation_1      0\n",
       "Foundation_2      0\n",
       "Foundation_3      0\n",
       "Foundation_4      0\n",
       "Foundation_5      0\n",
       "dtype: int64"
      ]
     },
     "execution_count": 29,
     "metadata": {},
     "output_type": "execute_result"
    }
   ],
   "source": [
    "pd.set_option('display.max_columns', None)\n",
    "\n",
    "result1 = result.iloc[:, 0:50]\n",
    "result1.isnull().sum()"
   ]
  },
  {
   "cell_type": "code",
   "execution_count": 30,
   "metadata": {},
   "outputs": [
    {
     "data": {
      "text/plain": [
       "Foundation_6           0\n",
       "BsmtQual               0\n",
       "BsmtCond               0\n",
       "BsmtFinType1          37\n",
       "BsmtFinSF1             0\n",
       "BsmtFinSF2             0\n",
       "BsmtUnfSF              0\n",
       "TotalBsmtSF            0\n",
       "HeatingQC              0\n",
       "CentralAir             0\n",
       "Electrical             1\n",
       "FirstFlrSF             0\n",
       "SecondFlrSF            0\n",
       "LowQualFinSF           0\n",
       "GrLivArea              0\n",
       "BsmtFullBath           0\n",
       "BsmtHalfBath           0\n",
       "FullBath               0\n",
       "HalfBath               0\n",
       "BedroomAbvGr           0\n",
       "KitchenAbvGr           0\n",
       "KitchenQual            0\n",
       "TotRmsAbvGrd           0\n",
       "Fireplaces             0\n",
       "FireplaceQu            0\n",
       "GarageType            81\n",
       "GarageYrBlt           81\n",
       "GarageFinish           0\n",
       "GarageCars             0\n",
       "GarageArea             0\n",
       "PavedDrive             0\n",
       "WoodDeckSF             0\n",
       "OpenPorchSF            0\n",
       "EnclosedPorch          0\n",
       "ScreenPorch            0\n",
       "PoolArea               0\n",
       "MiscVal                0\n",
       "MoSold                 0\n",
       "YrSold                 0\n",
       "SaleType               0\n",
       "SaleCondition          0\n",
       "SumSqft                0\n",
       "BsmtQual_Exist         0\n",
       "BsmtCond_Exist         0\n",
       "KitchenQual_Exist      0\n",
       "FireplaceQu_Exist      0\n",
       "GarageFinish_Exist     0\n",
       "SalePrice              0\n",
       "dtype: int64"
      ]
     },
     "execution_count": 30,
     "metadata": {},
     "output_type": "execute_result"
    }
   ],
   "source": [
    "result2 = result.iloc[:,50:120]\n",
    "result2.isnull().sum()"
   ]
  },
  {
   "cell_type": "code",
   "execution_count": null,
   "metadata": {},
   "outputs": [],
   "source": []
  },
  {
   "cell_type": "code",
   "execution_count": null,
   "metadata": {},
   "outputs": [],
   "source": []
  },
  {
   "cell_type": "code",
   "execution_count": null,
   "metadata": {},
   "outputs": [],
   "source": []
  }
 ],
 "metadata": {
  "kernelspec": {
   "display_name": "Python 3",
   "language": "python",
   "name": "python3"
  },
  "language_info": {
   "codemirror_mode": {
    "name": "ipython",
    "version": 3
   },
   "file_extension": ".py",
   "mimetype": "text/x-python",
   "name": "python",
   "nbconvert_exporter": "python",
   "pygments_lexer": "ipython3",
   "version": "3.7.3"
  }
 },
 "nbformat": 4,
 "nbformat_minor": 2
}
