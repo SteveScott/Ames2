{
 "cells": [
  {
   "cell_type": "code",
   "execution_count": 1,
   "metadata": {},
   "outputs": [],
   "source": [
    "import os\n",
    "import numpy as np\n",
    "import pandas as pd\n",
    "import category_encoders as ce"
   ]
  },
  {
   "cell_type": "code",
   "execution_count": 2,
   "metadata": {},
   "outputs": [
    {
     "name": "stdout",
     "output_type": "stream",
     "text": [
      "C:\\Users\\scottwi\\Ames\\Ames\n"
     ]
    }
   ],
   "source": [
    "cd ~/Ames/Ames"
   ]
  },
  {
   "cell_type": "code",
   "execution_count": 3,
   "metadata": {},
   "outputs": [],
   "source": [
    "root_directory = os.getcwd()\n",
    "test_data_path = os.path.join(root_directory, os.path.join('data','raw', 'test1.csv'))\n",
    "train_data_path = os.path.join(root_directory, os.path.join('data', 'raw', 'train1.csv'))"
   ]
  },
  {
   "cell_type": "code",
   "execution_count": 4,
   "metadata": {},
   "outputs": [],
   "source": [
    "test_dataframe = pd.read_csv(test_data_path)\n",
    "train_dataframe = pd.read_csv(train_data_path)\n"
   ]
  },
  {
   "cell_type": "code",
   "execution_count": 5,
   "metadata": {},
   "outputs": [
    {
     "name": "stdout",
     "output_type": "stream",
     "text": [
      "<class 'pandas.core.frame.DataFrame'>\n",
      "RangeIndex: 1459 entries, 0 to 1458\n",
      "Data columns (total 81 columns):\n",
      "Id               1459 non-null int64\n",
      "MSSubClass       1459 non-null int64\n",
      "MSZoning         1455 non-null object\n",
      "LotFrontage      1232 non-null float64\n",
      "LotArea          1459 non-null int64\n",
      "Street           1459 non-null object\n",
      "Alley            107 non-null object\n",
      "LotShape         1459 non-null object\n",
      "LandContour      1459 non-null object\n",
      "Utilities        1457 non-null object\n",
      "LotConfig        1459 non-null object\n",
      "LandSlope        1459 non-null object\n",
      "Neighborhood     1459 non-null object\n",
      "Condition1       1459 non-null object\n",
      "Condition2       1459 non-null object\n",
      "BldgType         1459 non-null object\n",
      "HouseStyle       1459 non-null object\n",
      "OverallQual      1459 non-null int64\n",
      "OverallCond      1459 non-null int64\n",
      "YearBuilt        1459 non-null int64\n",
      "YearRemodAdd     1459 non-null int64\n",
      "RoofStyle        1459 non-null object\n",
      "RoofMatl         1459 non-null object\n",
      "Exterior1st      1458 non-null object\n",
      "Exterior2nd      1458 non-null object\n",
      "MasVnrType       1443 non-null object\n",
      "MasVnrArea       1444 non-null float64\n",
      "ExterQual        1459 non-null object\n",
      "ExterCond        1459 non-null object\n",
      "Foundation       1459 non-null object\n",
      "BsmtQual         1415 non-null object\n",
      "BsmtCond         1414 non-null object\n",
      "BsmtExposure     1415 non-null object\n",
      "BsmtFinType1     1417 non-null object\n",
      "BsmtFinSF1       1458 non-null float64\n",
      "BsmtFinType2     1417 non-null object\n",
      "BsmtFinSF2       1458 non-null float64\n",
      "BsmtUnfSF        1458 non-null float64\n",
      "TotalBsmtSF      1458 non-null float64\n",
      "Heating          1459 non-null object\n",
      "HeatingQC        1459 non-null object\n",
      "CentralAir       1459 non-null object\n",
      "Electrical       1459 non-null object\n",
      "1stFlrSF         1459 non-null int64\n",
      "2ndFlrSF         1459 non-null int64\n",
      "LowQualFinSF     1459 non-null int64\n",
      "GrLivArea        1459 non-null int64\n",
      "BsmtFullBath     1457 non-null float64\n",
      "BsmtHalfBath     1457 non-null float64\n",
      "FullBath         1459 non-null int64\n",
      "HalfBath         1459 non-null int64\n",
      "BedroomAbvGr     1459 non-null int64\n",
      "KitchenAbvGr     1459 non-null int64\n",
      "KitchenQual      1458 non-null object\n",
      "TotRmsAbvGrd     1459 non-null int64\n",
      "Functional       1457 non-null object\n",
      "Fireplaces       1459 non-null int64\n",
      "FireplaceQu      729 non-null object\n",
      "GarageType       1383 non-null object\n",
      "GarageYrBlt      1381 non-null float64\n",
      "GarageFinish     1381 non-null object\n",
      "GarageCars       1458 non-null float64\n",
      "GarageArea       1458 non-null float64\n",
      "GarageQual       1381 non-null object\n",
      "GarageCond       1381 non-null object\n",
      "PavedDrive       1459 non-null object\n",
      "WoodDeckSF       1459 non-null int64\n",
      "OpenPorchSF      1459 non-null int64\n",
      "EnclosedPorch    1459 non-null int64\n",
      "3SsnPorch        1459 non-null int64\n",
      "ScreenPorch      1459 non-null int64\n",
      "PoolArea         1459 non-null int64\n",
      "PoolQC           3 non-null object\n",
      "Fence            290 non-null object\n",
      "MiscFeature      51 non-null object\n",
      "MiscVal          1459 non-null int64\n",
      "MoSold           1459 non-null int64\n",
      "YrSold           1459 non-null int64\n",
      "SaleType         1458 non-null object\n",
      "SaleCondition    1459 non-null object\n",
      "SalePrice        1459 non-null float64\n",
      "dtypes: float64(12), int64(26), object(43)\n",
      "memory usage: 923.4+ KB\n"
     ]
    }
   ],
   "source": [
    "test_dataframe.info()"
   ]
  },
  {
   "cell_type": "markdown",
   "metadata": {},
   "source": [
    "#### omit:\n",
    "\n",
    "street\n",
    "\n",
    "lot shape\n",
    "\n",
    "utilities\n",
    "\n",
    "LandSlope (same as contour?)\n",
    "\n",
    "roofStyle\n",
    "\n",
    "Exterior 2nd\n",
    "\n",
    "BsmtExposure\n",
    "\n",
    "BsmtFinType2\n",
    "\n",
    "Heating - a little sparse.\n",
    "\n",
    "Functional? \n",
    "\n",
    "GarageQual - too sparse no pattern.\n",
    "\n",
    "GarageCond - too sparse.\n",
    "\n",
    "Fence?\n",
    "\n",
    "MiscFeature\n"
   ]
  },
  {
   "cell_type": "code",
   "execution_count": 6,
   "metadata": {},
   "outputs": [],
   "source": [
    "def clean_dataset(df):\n",
    "    df = rename_invalid_labels(df)\n",
    "    df = omit(df)\n",
    "    df = clean_continuous(df)\n",
    "    df = clean_catagorical(df)\n",
    "    return df"
   ]
  },
  {
   "cell_type": "code",
   "execution_count": 7,
   "metadata": {},
   "outputs": [],
   "source": [
    "def rename_invalid_labels(df):\n",
    "    df = df.rename(columns={\"1stFlrSF\": \"FirstFlrSF\", \"2ndFlrSF\": \"SecondFlrSF\", \"3SsnPorch\": \"ThreeSsnPorch\"})\n",
    "    return df"
   ]
  },
  {
   "cell_type": "code",
   "execution_count": 8,
   "metadata": {},
   "outputs": [],
   "source": [
    "def omit(df):\n",
    "    df.drop(['Street',\n",
    "             'LotShape',\n",
    "             'Utilities',\n",
    "             'LandSlope',\n",
    "             'RoofStyle',\n",
    "             'Exterior2nd',\n",
    "             'BsmtExposure',\n",
    "             'BsmtFinType2',\n",
    "             'Heating',\n",
    "             'Functional',\n",
    "             'GarageQual',\n",
    "             'GarageCond',\n",
    "             'Fence',\n",
    "             'MiscFeature',\n",
    "             'ThreeSsnPorch'], axis=1)\n",
    "    return df"
   ]
  },
  {
   "cell_type": "code",
   "execution_count": 9,
   "metadata": {},
   "outputs": [],
   "source": [
    "def clean_continuous(df):\n",
    "    df['SumSqft'] = df['FirstFlrSF'] + df['SecondFlrSF']\n",
    "    df.drop(['FirstFlrSF', 'SecondFlrSF'], axis=1)\n",
    "    return df"
   ]
  },
  {
   "cell_type": "code",
   "execution_count": 10,
   "metadata": {},
   "outputs": [],
   "source": [
    "def clean_catagorical(df):\n",
    "    df = one_hot(df)\n",
    "    return df"
   ]
  },
  {
   "cell_type": "markdown",
   "metadata": {},
   "source": [
    "#### keep catagorical and one hot:\n",
    "MSZoning\n",
    "\n",
    "alley\n",
    "\n",
    "land contour\n",
    "\n",
    "lotConfig\n",
    "\n",
    "MasVnrType\n",
    "\n",
    "Foundation"
   ]
  },
  {
   "cell_type": "code",
   "execution_count": 11,
   "metadata": {},
   "outputs": [],
   "source": [
    "def one_hot(df):\n",
    "    ce_one_hot_encoder = ce.OneHotEncoder(cols=['MSZoning', 'Alley', 'LandContour', 'LotConfig', 'MasVnrType', 'Foundation'])\n",
    "    y = df['SalePrice']\n",
    "    X = df.drop('SalePrice', axis=1)\n",
    "    df = ce_one_hot_encoder.fit_transform(X, y)\n",
    "    return df\n",
    "    "
   ]
  },
  {
   "cell_type": "code",
   "execution_count": 12,
   "metadata": {},
   "outputs": [],
   "source": [
    "result = clean_dataset(train_dataframe)"
   ]
  },
  {
   "cell_type": "code",
   "execution_count": 14,
   "metadata": {},
   "outputs": [
    {
     "name": "stdout",
     "output_type": "stream",
     "text": [
      "<class 'pandas.core.frame.DataFrame'>\n",
      "RangeIndex: 1460 entries, 0 to 1459\n",
      "Data columns (total 103 columns):\n",
      "Id               int64\n",
      "MSSubClass       int64\n",
      "MSZoning_1       int64\n",
      "MSZoning_2       int64\n",
      "MSZoning_3       int64\n",
      "MSZoning_4       int64\n",
      "MSZoning_5       int64\n",
      "LotFrontage      float64\n",
      "LotArea          int64\n",
      "Street           object\n",
      "Alley_1          int64\n",
      "Alley_2          int64\n",
      "Alley_3          int64\n",
      "LotShape         object\n",
      "LandContour_1    int64\n",
      "LandContour_2    int64\n",
      "LandContour_3    int64\n",
      "LandContour_4    int64\n",
      "Utilities        object\n",
      "LotConfig_1      int64\n",
      "LotConfig_2      int64\n",
      "LotConfig_3      int64\n",
      "LotConfig_4      int64\n",
      "LotConfig_5      int64\n",
      "LandSlope        object\n",
      "Neighborhood     object\n",
      "Condition1       object\n",
      "Condition2       object\n",
      "BldgType         object\n",
      "HouseStyle       object\n",
      "OverallQual      int64\n",
      "OverallCond      int64\n",
      "YearBuilt        int64\n",
      "YearRemodAdd     int64\n",
      "RoofStyle        object\n",
      "RoofMatl         object\n",
      "Exterior1st      object\n",
      "Exterior2nd      object\n",
      "MasVnrType_1     int64\n",
      "MasVnrType_2     int64\n",
      "MasVnrType_3     int64\n",
      "MasVnrType_4     int64\n",
      "MasVnrType_5     int64\n",
      "MasVnrArea       float64\n",
      "ExterQual        object\n",
      "ExterCond        object\n",
      "Foundation_1     int64\n",
      "Foundation_2     int64\n",
      "Foundation_3     int64\n",
      "Foundation_4     int64\n",
      "Foundation_5     int64\n",
      "Foundation_6     int64\n",
      "BsmtQual         object\n",
      "BsmtCond         object\n",
      "BsmtExposure     object\n",
      "BsmtFinType1     object\n",
      "BsmtFinSF1       int64\n",
      "BsmtFinType2     object\n",
      "BsmtFinSF2       int64\n",
      "BsmtUnfSF        int64\n",
      "TotalBsmtSF      int64\n",
      "Heating          object\n",
      "HeatingQC        object\n",
      "CentralAir       object\n",
      "Electrical       object\n",
      "FirstFlrSF       int64\n",
      "SecondFlrSF      int64\n",
      "LowQualFinSF     int64\n",
      "GrLivArea        int64\n",
      "BsmtFullBath     int64\n",
      "BsmtHalfBath     int64\n",
      "FullBath         int64\n",
      "HalfBath         int64\n",
      "BedroomAbvGr     int64\n",
      "KitchenAbvGr     int64\n",
      "KitchenQual      object\n",
      "TotRmsAbvGrd     int64\n",
      "Functional       object\n",
      "Fireplaces       int64\n",
      "FireplaceQu      object\n",
      "GarageType       object\n",
      "GarageYrBlt      float64\n",
      "GarageFinish     object\n",
      "GarageCars       int64\n",
      "GarageArea       int64\n",
      "GarageQual       object\n",
      "GarageCond       object\n",
      "PavedDrive       object\n",
      "WoodDeckSF       int64\n",
      "OpenPorchSF      int64\n",
      "EnclosedPorch    int64\n",
      "ThreeSsnPorch    int64\n",
      "ScreenPorch      int64\n",
      "PoolArea         int64\n",
      "PoolQC           object\n",
      "Fence            object\n",
      "MiscFeature      object\n",
      "MiscVal          int64\n",
      "MoSold           int64\n",
      "YrSold           int64\n",
      "SaleType         object\n",
      "SaleCondition    object\n",
      "SumSqft          int64\n",
      "dtypes: float64(3), int64(63), object(37)\n",
      "memory usage: 1.1+ MB\n"
     ]
    }
   ],
   "source": [
    "result.info(verbose=True)"
   ]
  },
  {
   "cell_type": "code",
   "execution_count": null,
   "metadata": {},
   "outputs": [],
   "source": []
  }
 ],
 "metadata": {
  "kernelspec": {
   "display_name": "Python 3",
   "language": "python",
   "name": "python3"
  },
  "language_info": {
   "codemirror_mode": {
    "name": "ipython",
    "version": 3
   },
   "file_extension": ".py",
   "mimetype": "text/x-python",
   "name": "python",
   "nbconvert_exporter": "python",
   "pygments_lexer": "ipython3",
   "version": "3.7.3"
  }
 },
 "nbformat": 4,
 "nbformat_minor": 2
}
